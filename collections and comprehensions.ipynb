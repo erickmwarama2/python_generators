{
 "cells": [
  {
   "cell_type": "code",
   "execution_count": 1,
   "id": "864cad17",
   "metadata": {},
   "outputs": [],
   "source": [
    "def square1(n):\n",
    "    return n ** 2"
   ]
  },
  {
   "cell_type": "code",
   "execution_count": 2,
   "id": "06f7628c",
   "metadata": {},
   "outputs": [],
   "source": [
    "def square2(n):\n",
    "    return n * n"
   ]
  },
  {
   "cell_type": "code",
   "execution_count": 16,
   "id": "081328dd",
   "metadata": {},
   "outputs": [],
   "source": [
    "class CustIter:\n",
    "    def __init__(self, n):\n",
    "        self.start = -1\n",
    "        self.end = n\n",
    "    \n",
    "    def __iter__(self):\n",
    "        return self\n",
    "    \n",
    "    def __next__(self):\n",
    "        self.start += 1\n",
    "        if self.start > self.end:\n",
    "            raise StopIteration\n",
    "        \n",
    "        return self.start"
   ]
  },
  {
   "cell_type": "code",
   "execution_count": 14,
   "id": "6fdc907a",
   "metadata": {},
   "outputs": [],
   "source": [
    "myIter = CustIter(10)"
   ]
  },
  {
   "cell_type": "code",
   "execution_count": 17,
   "id": "06a2f79a",
   "metadata": {},
   "outputs": [
    {
     "name": "stdout",
     "output_type": "stream",
     "text": [
      "0\n",
      "1\n",
      "2\n",
      "3\n",
      "4\n",
      "5\n",
      "6\n",
      "7\n",
      "8\n",
      "9\n",
      "10\n"
     ]
    }
   ],
   "source": [
    "for i in CustIter(10):\n",
    "    print(i)"
   ]
  },
  {
   "cell_type": "code",
   "execution_count": 18,
   "id": "a664807b",
   "metadata": {},
   "outputs": [
    {
     "data": {
      "text/plain": [
       "<map at 0x7ff71a91a7a0>"
      ]
     },
     "execution_count": 18,
     "metadata": {},
     "output_type": "execute_result"
    }
   ],
   "source": [
    "map(lambda *a: a, range(3))"
   ]
  },
  {
   "cell_type": "code",
   "execution_count": 22,
   "id": "8bb59464",
   "metadata": {},
   "outputs": [
    {
     "data": {
      "text/plain": [
       "[0, 1, 2]"
      ]
     },
     "execution_count": 22,
     "metadata": {},
     "output_type": "execute_result"
    }
   ],
   "source": [
    "list(map(lambda a: a, range(3)))"
   ]
  },
  {
   "cell_type": "code",
   "execution_count": 29,
   "id": "999c24e3",
   "metadata": {},
   "outputs": [
    {
     "name": "stdout",
     "output_type": "stream",
     "text": [
      "0 11 12 = 23\n",
      "1 12 11 = 24\n",
      "2 13 10 = 25\n",
      "3 14 9 = 26\n",
      "4 15 8 = 27\n"
     ]
    },
    {
     "data": {
      "text/plain": [
       "[None, None, None, None, None]"
      ]
     },
     "execution_count": 29,
     "metadata": {},
     "output_type": "execute_result"
    }
   ],
   "source": [
    "list(map(lambda a,b,c: print(a, b, c, '=', a + b + c), range(0,5), range(11, 18), range(12, 5, -1)))"
   ]
  },
  {
   "cell_type": "code",
   "execution_count": 27,
   "id": "da2025c2",
   "metadata": {},
   "outputs": [
    {
     "name": "stdout",
     "output_type": "stream",
     "text": [
      "[0, 1, 2, 3, 4]\n",
      "[11, 12, 13, 14, 15, 16, 17]\n",
      "[12, 11, 10, 9, 8, 7, 6]\n"
     ]
    }
   ],
   "source": [
    "print(list(range(0, 5)))\n",
    "print(list(range(11, 18)))\n",
    "print(list(range(12, 5, -1)))"
   ]
  },
  {
   "cell_type": "code",
   "execution_count": 30,
   "id": "59ac7eb9",
   "metadata": {},
   "outputs": [],
   "source": [
    "students = [\n",
    "    dict(id=0, credits=dict(math=9, physics=6, history=7)),\n",
    "    dict(id=1, credits=dict(math=6, physics=7, latin=10)),\n",
    "    dict(id=2, credits=dict(history=8, physics=9, chemistry=10)),\n",
    "    dict(id=3, credits=dict(math=5, physics=5, geography=7))\n",
    "]"
   ]
  },
  {
   "cell_type": "code",
   "execution_count": 31,
   "id": "50d5c204",
   "metadata": {},
   "outputs": [],
   "source": [
    "def decorate(student):\n",
    "    return (sum(student['credits'].values()), student)"
   ]
  },
  {
   "cell_type": "code",
   "execution_count": 32,
   "id": "13af1551",
   "metadata": {},
   "outputs": [],
   "source": [
    "def undecorate(decorated_student):\n",
    "    return decorated_student[1]"
   ]
  },
  {
   "cell_type": "code",
   "execution_count": 33,
   "id": "9551aec1",
   "metadata": {},
   "outputs": [
    {
     "data": {
      "text/plain": [
       "[(27, {'id': 2, 'credits': {'history': 8, 'physics': 9, 'chemistry': 10}}),\n",
       " (23, {'id': 1, 'credits': {'math': 6, 'physics': 7, 'latin': 10}}),\n",
       " (22, {'id': 0, 'credits': {'math': 9, 'physics': 6, 'history': 7}}),\n",
       " (17, {'id': 3, 'credits': {'math': 5, 'physics': 5, 'geography': 7}})]"
      ]
     },
     "execution_count": 33,
     "metadata": {},
     "output_type": "execute_result"
    }
   ],
   "source": [
    "students = sorted(map(decorate, students), reverse=True)\n",
    "students"
   ]
  },
  {
   "cell_type": "code",
   "execution_count": 34,
   "id": "e097851c",
   "metadata": {},
   "outputs": [
    {
     "data": {
      "text/plain": [
       "[{'id': 2, 'credits': {'history': 8, 'physics': 9, 'chemistry': 10}},\n",
       " {'id': 1, 'credits': {'math': 6, 'physics': 7, 'latin': 10}},\n",
       " {'id': 0, 'credits': {'math': 9, 'physics': 6, 'history': 7}},\n",
       " {'id': 3, 'credits': {'math': 5, 'physics': 5, 'geography': 7}}]"
      ]
     },
     "execution_count": 34,
     "metadata": {},
     "output_type": "execute_result"
    }
   ],
   "source": [
    "students = list(map(undecorate, students))\n",
    "students"
   ]
  },
  {
   "cell_type": "code",
   "execution_count": 35,
   "id": "02a52a63",
   "metadata": {},
   "outputs": [],
   "source": [
    "grades = [18, 23, 30, 27]\n",
    "avgs = [22, 21, 29, 24]"
   ]
  },
  {
   "cell_type": "code",
   "execution_count": 36,
   "id": "676db760",
   "metadata": {},
   "outputs": [
    {
     "data": {
      "text/plain": [
       "[(18, 22), (23, 21), (30, 29), (27, 24)]"
      ]
     },
     "execution_count": 36,
     "metadata": {},
     "output_type": "execute_result"
    }
   ],
   "source": [
    "list(zip(grades, avgs))"
   ]
  },
  {
   "cell_type": "code",
   "execution_count": 37,
   "id": "fd09d826",
   "metadata": {},
   "outputs": [
    {
     "data": {
      "text/plain": [
       "[(18, 22), (23, 21), (30, 29), (27, 24)]"
      ]
     },
     "execution_count": 37,
     "metadata": {},
     "output_type": "execute_result"
    }
   ],
   "source": [
    "list(map(lambda *a: a, grades, avgs))"
   ]
  },
  {
   "cell_type": "code",
   "execution_count": 39,
   "id": "f704039b",
   "metadata": {},
   "outputs": [
    {
     "data": {
      "text/plain": [
       "[22, 23, 30, 27]"
      ]
     },
     "execution_count": 39,
     "metadata": {},
     "output_type": "execute_result"
    }
   ],
   "source": [
    "list(map(lambda a: max(a), zip(grades, avgs)))"
   ]
  },
  {
   "cell_type": "code",
   "execution_count": 40,
   "id": "9f608981",
   "metadata": {},
   "outputs": [
    {
     "data": {
      "text/plain": [
       "[0, 1, 4, 9, 16, 25, 36, 49, 64, 81]"
      ]
     },
     "execution_count": 40,
     "metadata": {},
     "output_type": "execute_result"
    }
   ],
   "source": [
    "[n * n for n in range(10)]"
   ]
  },
  {
   "cell_type": "code",
   "execution_count": 41,
   "id": "4c8a8652",
   "metadata": {},
   "outputs": [
    {
     "data": {
      "text/plain": [
       "[0, 4, 16, 36, 64]"
      ]
     },
     "execution_count": 41,
     "metadata": {},
     "output_type": "execute_result"
    }
   ],
   "source": [
    "list(map(lambda x: x ** 2, filter(lambda x: x % 2 == 0, range(10))))"
   ]
  },
  {
   "cell_type": "code",
   "execution_count": 42,
   "id": "6b93600f",
   "metadata": {},
   "outputs": [
    {
     "data": {
      "text/plain": [
       "[0, 4, 16, 36, 64]"
      ]
     },
     "execution_count": 42,
     "metadata": {},
     "output_type": "execute_result"
    }
   ],
   "source": [
    "[n*n for n in range(10) if not n % 2]"
   ]
  },
  {
   "cell_type": "code",
   "execution_count": 43,
   "id": "9e25fe3f",
   "metadata": {},
   "outputs": [],
   "source": [
    "numbers = [1,2,3,4]\n",
    "pairs = []"
   ]
  },
  {
   "cell_type": "code",
   "execution_count": 45,
   "id": "4568fef6",
   "metadata": {},
   "outputs": [],
   "source": [
    "for a in range(len(numbers)):\n",
    "    for b in range(a, len(numbers)):\n",
    "        pairs.append((numbers[a], numbers[b]))"
   ]
  },
  {
   "cell_type": "code",
   "execution_count": 46,
   "id": "f8e8d1c3",
   "metadata": {},
   "outputs": [
    {
     "data": {
      "text/plain": [
       "[(1, 1),\n",
       " (1, 2),\n",
       " (1, 3),\n",
       " (1, 4),\n",
       " (2, 2),\n",
       " (2, 3),\n",
       " (2, 4),\n",
       " (3, 3),\n",
       " (3, 4),\n",
       " (4, 4)]"
      ]
     },
     "execution_count": 46,
     "metadata": {},
     "output_type": "execute_result"
    }
   ],
   "source": [
    "pairs"
   ]
  },
  {
   "cell_type": "code",
   "execution_count": 47,
   "id": "cb0bfa90",
   "metadata": {},
   "outputs": [
    {
     "data": {
      "text/plain": [
       "[1, 2, 3, 4]"
      ]
     },
     "execution_count": 47,
     "metadata": {},
     "output_type": "execute_result"
    }
   ],
   "source": [
    "numbers"
   ]
  },
  {
   "cell_type": "code",
   "execution_count": 49,
   "id": "907c63e3",
   "metadata": {},
   "outputs": [
    {
     "data": {
      "text/plain": [
       "[(1, 2), (1, 3), (1, 4), (2, 3), (2, 4), (3, 4)]"
      ]
     },
     "execution_count": 49,
     "metadata": {},
     "output_type": "execute_result"
    }
   ],
   "source": [
    "[(numbers[a], numbers[b]) for a in range(len(numbers)) for b in range(a, len(numbers)) if a != b]"
   ]
  },
  {
   "cell_type": "code",
   "execution_count": 50,
   "id": "038e8a41",
   "metadata": {},
   "outputs": [],
   "source": [
    "mx = 10"
   ]
  },
  {
   "cell_type": "code",
   "execution_count": 51,
   "id": "61db34b6",
   "metadata": {},
   "outputs": [],
   "source": [
    "from math import sqrt"
   ]
  },
  {
   "cell_type": "code",
   "execution_count": 54,
   "id": "8968efd1",
   "metadata": {},
   "outputs": [],
   "source": [
    "triples = [(a, b, sqrt(a**2 + b**2)) for a in range(1, mx) for b in range(a, mx)]"
   ]
  },
  {
   "cell_type": "code",
   "execution_count": 55,
   "id": "197bb271",
   "metadata": {},
   "outputs": [
    {
     "data": {
      "text/plain": [
       "[(1, 1, 1.4142135623730951),\n",
       " (1, 2, 2.23606797749979),\n",
       " (1, 3, 3.1622776601683795),\n",
       " (1, 4, 4.123105625617661),\n",
       " (1, 5, 5.0990195135927845),\n",
       " (1, 6, 6.082762530298219),\n",
       " (1, 7, 7.0710678118654755),\n",
       " (1, 8, 8.06225774829855),\n",
       " (1, 9, 9.055385138137417),\n",
       " (2, 2, 2.8284271247461903),\n",
       " (2, 3, 3.605551275463989),\n",
       " (2, 4, 4.47213595499958),\n",
       " (2, 5, 5.385164807134504),\n",
       " (2, 6, 6.324555320336759),\n",
       " (2, 7, 7.280109889280518),\n",
       " (2, 8, 8.246211251235321),\n",
       " (2, 9, 9.219544457292887),\n",
       " (3, 3, 4.242640687119285),\n",
       " (3, 4, 5.0),\n",
       " (3, 5, 5.830951894845301),\n",
       " (3, 6, 6.708203932499369),\n",
       " (3, 7, 7.615773105863909),\n",
       " (3, 8, 8.54400374531753),\n",
       " (3, 9, 9.486832980505138),\n",
       " (4, 4, 5.656854249492381),\n",
       " (4, 5, 6.4031242374328485),\n",
       " (4, 6, 7.211102550927978),\n",
       " (4, 7, 8.06225774829855),\n",
       " (4, 8, 8.94427190999916),\n",
       " (4, 9, 9.848857801796104),\n",
       " (5, 5, 7.0710678118654755),\n",
       " (5, 6, 7.810249675906654),\n",
       " (5, 7, 8.602325267042627),\n",
       " (5, 8, 9.433981132056603),\n",
       " (5, 9, 10.295630140987),\n",
       " (6, 6, 8.48528137423857),\n",
       " (6, 7, 9.219544457292887),\n",
       " (6, 8, 10.0),\n",
       " (6, 9, 10.816653826391969),\n",
       " (7, 7, 9.899494936611665),\n",
       " (7, 8, 10.63014581273465),\n",
       " (7, 9, 11.40175425099138),\n",
       " (8, 8, 11.313708498984761),\n",
       " (8, 9, 12.041594578792296),\n",
       " (9, 9, 12.727922061357855)]"
      ]
     },
     "execution_count": 55,
     "metadata": {},
     "output_type": "execute_result"
    }
   ],
   "source": [
    "triples"
   ]
  },
  {
   "cell_type": "code",
   "execution_count": 57,
   "id": "458dd56e",
   "metadata": {},
   "outputs": [
    {
     "data": {
      "text/plain": [
       "[(3, 4, 5.0), (6, 8, 10.0)]"
      ]
     },
     "execution_count": 57,
     "metadata": {},
     "output_type": "execute_result"
    }
   ],
   "source": [
    "list(filter(lambda x: x[2].is_integer(), triples))"
   ]
  },
  {
   "cell_type": "code",
   "execution_count": 63,
   "id": "1c4b1b14",
   "metadata": {},
   "outputs": [
    {
     "data": {
      "text/plain": [
       "[(3, 4, 5), (6, 8, 10)]"
      ]
     },
     "execution_count": 63,
     "metadata": {},
     "output_type": "execute_result"
    }
   ],
   "source": [
    "list(map(lambda x: x[:2] +  (int(x[2]),), (filter(lambda x: x[2].is_integer(), triples))))"
   ]
  },
  {
   "cell_type": "code",
   "execution_count": 71,
   "id": "17029594",
   "metadata": {},
   "outputs": [
    {
     "data": {
      "text/plain": [
       "[(3, 4, 5.0), (6, 8, 10.0)]"
      ]
     },
     "execution_count": 71,
     "metadata": {},
     "output_type": "execute_result"
    }
   ],
   "source": [
    "[(a, b, c) for a, b, c in [(a, b, sqrt(a**2 + b**2)) for a in range(1, mx) for b in range(a, mx)] if c.is_integer()]"
   ]
  },
  {
   "cell_type": "code",
   "execution_count": null,
   "id": "7299979f",
   "metadata": {},
   "outputs": [],
   "source": []
  }
 ],
 "metadata": {
  "kernelspec": {
   "display_name": "Python 3 (ipykernel)",
   "language": "python",
   "name": "python3"
  },
  "language_info": {
   "codemirror_mode": {
    "name": "ipython",
    "version": 3
   },
   "file_extension": ".py",
   "mimetype": "text/x-python",
   "name": "python",
   "nbconvert_exporter": "python",
   "pygments_lexer": "ipython3",
   "version": "3.10.6"
  }
 },
 "nbformat": 4,
 "nbformat_minor": 5
}
